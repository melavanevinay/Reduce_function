{
 "cells": [
  {
   "cell_type": "markdown",
   "id": "afabd3da-40a4-4ec4-b025-a244d652f85a",
   "metadata": {},
   "source": [
    "# Reduce Function : "
   ]
  },
  {
   "cell_type": "markdown",
   "id": "ee057758-1efa-483b-b02c-0e9f0d46e86b",
   "metadata": {},
   "source": [
    "## The reduce function is used to apply perticular function passed in its arguments to all the list elements mentioned sequence."
   ]
  },
  {
   "cell_type": "markdown",
   "id": "3fee6bf1-3a65-4c07-9ae8-bb479dbc7b60",
   "metadata": {},
   "source": [
    "## The general working of reduce function is :\n",
    "### 1. The first two elements of sequence are picked up and the operation is carried out and result is obtained.\n",
    "### 2. Next step is to use the obtained result and the succeeding element from sequence and carry out the function operation, the result is again stored.\n",
    "### 3. This process continues till the no element is left in the sequence. The final result obtained is given as output."
   ]
  },
  {
   "cell_type": "markdown",
   "id": "8bfccae1-3d33-4ccb-bc7c-3800b481a16d",
   "metadata": {},
   "source": [
    "## The reduce function is defined in \"functools\" module."
   ]
  },
  {
   "cell_type": "code",
   "execution_count": 1,
   "id": "acb52c00-f1fa-4e2e-80c3-945ed62bfc8b",
   "metadata": {},
   "outputs": [],
   "source": [
    "from functools import reduce"
   ]
  },
  {
   "cell_type": "markdown",
   "id": "0fa653e6-d170-4526-9834-ce73ad279346",
   "metadata": {},
   "source": [
    "## sum of all elements provided in the list:"
   ]
  },
  {
   "cell_type": "code",
   "execution_count": 3,
   "id": "359b3c59-cf8a-4357-b756-186767f9332f",
   "metadata": {},
   "outputs": [],
   "source": [
    "l=[1,2,3,4,5]\n"
   ]
  },
  {
   "cell_type": "code",
   "execution_count": 4,
   "id": "b70e9e9c-f793-44d5-a987-9ee3838094d6",
   "metadata": {},
   "outputs": [],
   "source": [
    "addition=reduce(lambda x,y : x+y , l)"
   ]
  },
  {
   "cell_type": "code",
   "execution_count": 5,
   "id": "0d00ff84-8cc1-4a1b-b63d-0175e960bc39",
   "metadata": {},
   "outputs": [
    {
     "name": "stdout",
     "output_type": "stream",
     "text": [
      "15\n"
     ]
    }
   ],
   "source": [
    "print(addition)"
   ]
  },
  {
   "cell_type": "markdown",
   "id": "5086994e-a9a2-4127-bfd9-81bd6d0e245b",
   "metadata": {},
   "source": [
    "## Minimun number from list :"
   ]
  },
  {
   "cell_type": "code",
   "execution_count": 8,
   "id": "1692a45a-e0b7-4b9e-b397-4be8bbe4c254",
   "metadata": {},
   "outputs": [],
   "source": [
    "minimum = reduce(lambda x,y :  x if x<y else y , l)"
   ]
  },
  {
   "cell_type": "code",
   "execution_count": 9,
   "id": "e1b1f757-c2a1-4167-8502-8cc6b7982999",
   "metadata": {},
   "outputs": [
    {
     "name": "stdout",
     "output_type": "stream",
     "text": [
      "1\n"
     ]
    }
   ],
   "source": [
    "print(minimum)"
   ]
  },
  {
   "cell_type": "code",
   "execution_count": 13,
   "id": "0b73079d-617c-41f8-980c-9347f9939637",
   "metadata": {},
   "outputs": [],
   "source": [
    "f= (lambda x : x%2==0 , l)"
   ]
  },
  {
   "cell_type": "code",
   "execution_count": null,
   "id": "3bb9eeba-cfd0-42b3-bd77-51705f0d1ac0",
   "metadata": {},
   "outputs": [],
   "source": []
  }
 ],
 "metadata": {
  "kernelspec": {
   "display_name": "Python 3 (ipykernel)",
   "language": "python",
   "name": "python3"
  },
  "language_info": {
   "codemirror_mode": {
    "name": "ipython",
    "version": 3
   },
   "file_extension": ".py",
   "mimetype": "text/x-python",
   "name": "python",
   "nbconvert_exporter": "python",
   "pygments_lexer": "ipython3",
   "version": "3.10.8"
  }
 },
 "nbformat": 4,
 "nbformat_minor": 5
}
